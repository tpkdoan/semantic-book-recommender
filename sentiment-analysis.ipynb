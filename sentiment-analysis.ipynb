{
 "cells": [
  {
   "cell_type": "code",
   "id": "initial_id",
   "metadata": {
    "collapsed": true,
    "ExecuteTime": {
     "end_time": "2025-04-17T19:10:52.245727Z",
     "start_time": "2025-04-17T19:10:52.073099Z"
    }
   },
   "source": [
    "import pandas as pd\n",
    "\n",
    "books = pd.read_csv('books_with_categories.csv')"
   ],
   "outputs": [],
   "execution_count": 2
  },
  {
   "metadata": {
    "ExecuteTime": {
     "end_time": "2025-04-17T19:12:11.948945Z",
     "start_time": "2025-04-17T19:12:10.589924Z"
    }
   },
   "cell_type": "code",
   "source": [
    "from transformers import pipeline\n",
    "classifier = pipeline(\"text-classification\",\n",
    "                model=\"j-hartmann/emotion-english-distilroberta-base\",\n",
    "                top_k = None,\n",
    "                device = -1)\n",
    "classifier(\"I love this!\")"
   ],
   "id": "caafc7cc9654897",
   "outputs": [
    {
     "name": "stderr",
     "output_type": "stream",
     "text": [
      "Device set to use cpu\n"
     ]
    },
    {
     "data": {
      "text/plain": [
       "[[{'label': 'joy', 'score': 0.9771687984466553},\n",
       "  {'label': 'surprise', 'score': 0.008528688922524452},\n",
       "  {'label': 'neutral', 'score': 0.005764594301581383},\n",
       "  {'label': 'anger', 'score': 0.004419791977852583},\n",
       "  {'label': 'sadness', 'score': 0.002092392183840275},\n",
       "  {'label': 'disgust', 'score': 0.0016119939973577857},\n",
       "  {'label': 'fear', 'score': 0.0004138525982853025}]]"
      ]
     },
     "execution_count": 4,
     "metadata": {},
     "output_type": "execute_result"
    }
   ],
   "execution_count": 4
  },
  {
   "metadata": {
    "ExecuteTime": {
     "end_time": "2025-04-17T19:13:18.426931Z",
     "start_time": "2025-04-17T19:13:18.402262Z"
    }
   },
   "cell_type": "code",
   "source": "books[\"description\"][0]",
   "id": "9c345253b8b5e1cb",
   "outputs": [
    {
     "data": {
      "text/plain": [
       "'A NOVEL THAT READERS and critics have been eagerly anticipating for over a decade, Gilead is an astonishingly imagined story of remarkable lives. John Ames is a preacher, the son of a preacher and the grandson (both maternal and paternal) of preachers. It’s 1956 in Gilead, Iowa, towards the end of the Reverend Ames’s life, and he is absorbed in recording his family’s story, a legacy for the young son he will never see grow up. Haunted by his grandfather’s presence, John tells of the rift between his grandfather and his father: the elder, an angry visionary who fought for the abolitionist cause, and his son, an ardent pacifist. He is troubled, too, by his prodigal namesake, Jack (John Ames) Boughton, his best friend’s lost son who returns to Gilead searching for forgiveness and redemption. Told in John Ames’s joyous, rambling voice that finds beauty, humour and truth in the smallest of life’s details, Gilead is a song of celebration and acceptance of the best and the worst the world has to offer. At its heart is a tale of the sacred bonds between fathers and sons, pitch-perfect in style and story, set to dazzle critics and readers alike.'"
      ]
     },
     "execution_count": 5,
     "metadata": {},
     "output_type": "execute_result"
    }
   ],
   "execution_count": 5
  },
  {
   "metadata": {
    "ExecuteTime": {
     "end_time": "2025-04-17T19:13:27.772940Z",
     "start_time": "2025-04-17T19:13:27.515230Z"
    }
   },
   "cell_type": "code",
   "source": "classifier(books[\"description\"][0])",
   "id": "8a77e4a5d5856cf4",
   "outputs": [
    {
     "data": {
      "text/plain": [
       "[[{'label': 'fear', 'score': 0.6548401713371277},\n",
       "  {'label': 'neutral', 'score': 0.16985245048999786},\n",
       "  {'label': 'sadness', 'score': 0.11640936136245728},\n",
       "  {'label': 'surprise', 'score': 0.020700672641396523},\n",
       "  {'label': 'disgust', 'score': 0.019100703299045563},\n",
       "  {'label': 'joy', 'score': 0.01516145933419466},\n",
       "  {'label': 'anger', 'score': 0.0039351508021354675}]]"
      ]
     },
     "execution_count": 6,
     "metadata": {},
     "output_type": "execute_result"
    }
   ],
   "execution_count": 6
  },
  {
   "metadata": {
    "ExecuteTime": {
     "end_time": "2025-04-17T19:14:06.520790Z",
     "start_time": "2025-04-17T19:14:05.827401Z"
    }
   },
   "cell_type": "code",
   "source": "classifier(books[\"description\"][0].split(\".\"))",
   "id": "edc9bc642db5039f",
   "outputs": [
    {
     "data": {
      "text/plain": [
       "[[{'label': 'surprise', 'score': 0.7296019196510315},\n",
       "  {'label': 'neutral', 'score': 0.14038601517677307},\n",
       "  {'label': 'fear', 'score': 0.06816236674785614},\n",
       "  {'label': 'joy', 'score': 0.047942690551280975},\n",
       "  {'label': 'anger', 'score': 0.009156372398138046},\n",
       "  {'label': 'disgust', 'score': 0.0026284772902727127},\n",
       "  {'label': 'sadness', 'score': 0.0021221640054136515}],\n",
       " [{'label': 'neutral', 'score': 0.4493706226348877},\n",
       "  {'label': 'disgust', 'score': 0.2735915184020996},\n",
       "  {'label': 'joy', 'score': 0.1090831458568573},\n",
       "  {'label': 'sadness', 'score': 0.09362735599279404},\n",
       "  {'label': 'anger', 'score': 0.04047828167676926},\n",
       "  {'label': 'surprise', 'score': 0.02697017416357994},\n",
       "  {'label': 'fear', 'score': 0.006879038643091917}],\n",
       " [{'label': 'neutral', 'score': 0.6462156772613525},\n",
       "  {'label': 'sadness', 'score': 0.24273349344730377},\n",
       "  {'label': 'disgust', 'score': 0.04342273995280266},\n",
       "  {'label': 'surprise', 'score': 0.028300588950514793},\n",
       "  {'label': 'joy', 'score': 0.01421147957444191},\n",
       "  {'label': 'fear', 'score': 0.014084111899137497},\n",
       "  {'label': 'anger', 'score': 0.011031901463866234}],\n",
       " [{'label': 'fear', 'score': 0.9281684160232544},\n",
       "  {'label': 'anger', 'score': 0.032190799713134766},\n",
       "  {'label': 'neutral', 'score': 0.0128086619079113},\n",
       "  {'label': 'sadness', 'score': 0.008756876923143864},\n",
       "  {'label': 'surprise', 'score': 0.008597898297011852},\n",
       "  {'label': 'disgust', 'score': 0.008431816473603249},\n",
       "  {'label': 'joy', 'score': 0.0010455824667587876}],\n",
       " [{'label': 'sadness', 'score': 0.9671575427055359},\n",
       "  {'label': 'neutral', 'score': 0.01510414108633995},\n",
       "  {'label': 'disgust', 'score': 0.006480589509010315},\n",
       "  {'label': 'fear', 'score': 0.005393987521529198},\n",
       "  {'label': 'surprise', 'score': 0.002286941045895219},\n",
       "  {'label': 'anger', 'score': 0.0018428886542096734},\n",
       "  {'label': 'joy', 'score': 0.001733877114020288}],\n",
       " [{'label': 'joy', 'score': 0.9327982664108276},\n",
       "  {'label': 'disgust', 'score': 0.03771700710058212},\n",
       "  {'label': 'neutral', 'score': 0.015891799703240395},\n",
       "  {'label': 'sadness', 'score': 0.006444491911679506},\n",
       "  {'label': 'anger', 'score': 0.005024956539273262},\n",
       "  {'label': 'surprise', 'score': 0.0015812045894563198},\n",
       "  {'label': 'fear', 'score': 0.000542305177077651}],\n",
       " [{'label': 'joy', 'score': 0.652870774269104},\n",
       "  {'label': 'neutral', 'score': 0.2542746365070343},\n",
       "  {'label': 'surprise', 'score': 0.06808297336101532},\n",
       "  {'label': 'sadness', 'score': 0.009908990003168583},\n",
       "  {'label': 'disgust', 'score': 0.006512215826660395},\n",
       "  {'label': 'anger', 'score': 0.004821308888494968},\n",
       "  {'label': 'fear', 'score': 0.003529014065861702}],\n",
       " [{'label': 'neutral', 'score': 0.5494771003723145},\n",
       "  {'label': 'sadness', 'score': 0.11169011145830154},\n",
       "  {'label': 'disgust', 'score': 0.10400665551424026},\n",
       "  {'label': 'surprise', 'score': 0.07876542955636978},\n",
       "  {'label': 'anger', 'score': 0.06413359194993973},\n",
       "  {'label': 'fear', 'score': 0.0513627752661705},\n",
       "  {'label': 'joy', 'score': 0.04056438058614731}]]"
      ]
     },
     "execution_count": 7,
     "metadata": {},
     "output_type": "execute_result"
    }
   ],
   "execution_count": 7
  },
  {
   "metadata": {
    "ExecuteTime": {
     "end_time": "2025-04-17T19:16:54.508806Z",
     "start_time": "2025-04-17T19:16:53.762630Z"
    }
   },
   "cell_type": "code",
   "source": [
    "sentences = books[\"description\"][0].split(\".\")\n",
    "predictions = classifier(sentences)"
   ],
   "id": "c369d00dce3a2c1e",
   "outputs": [],
   "execution_count": 8
  },
  {
   "metadata": {
    "ExecuteTime": {
     "end_time": "2025-04-17T19:16:58.732909Z",
     "start_time": "2025-04-17T19:16:58.726826Z"
    }
   },
   "cell_type": "code",
   "source": "sentences[0]",
   "id": "6833242dd48a3f2c",
   "outputs": [
    {
     "data": {
      "text/plain": [
       "'A NOVEL THAT READERS and critics have been eagerly anticipating for over a decade, Gilead is an astonishingly imagined story of remarkable lives'"
      ]
     },
     "execution_count": 9,
     "metadata": {},
     "output_type": "execute_result"
    }
   ],
   "execution_count": 9
  },
  {
   "metadata": {
    "ExecuteTime": {
     "end_time": "2025-04-17T19:17:07.876120Z",
     "start_time": "2025-04-17T19:17:07.868825Z"
    }
   },
   "cell_type": "code",
   "source": "predictions[0]",
   "id": "51761c4a8ed6212",
   "outputs": [
    {
     "data": {
      "text/plain": [
       "[{'label': 'surprise', 'score': 0.7296019196510315},\n",
       " {'label': 'neutral', 'score': 0.14038601517677307},\n",
       " {'label': 'fear', 'score': 0.06816236674785614},\n",
       " {'label': 'joy', 'score': 0.047942690551280975},\n",
       " {'label': 'anger', 'score': 0.009156372398138046},\n",
       " {'label': 'disgust', 'score': 0.0026284772902727127},\n",
       " {'label': 'sadness', 'score': 0.0021221640054136515}]"
      ]
     },
     "execution_count": 10,
     "metadata": {},
     "output_type": "execute_result"
    }
   ],
   "execution_count": 10
  },
  {
   "metadata": {
    "ExecuteTime": {
     "end_time": "2025-04-17T19:17:25.641858Z",
     "start_time": "2025-04-17T19:17:25.631422Z"
    }
   },
   "cell_type": "code",
   "source": "predictions[3]",
   "id": "8ac5889f93693515",
   "outputs": [
    {
     "data": {
      "text/plain": [
       "[{'label': 'fear', 'score': 0.9281684160232544},\n",
       " {'label': 'anger', 'score': 0.032190799713134766},\n",
       " {'label': 'neutral', 'score': 0.0128086619079113},\n",
       " {'label': 'sadness', 'score': 0.008756876923143864},\n",
       " {'label': 'surprise', 'score': 0.008597898297011852},\n",
       " {'label': 'disgust', 'score': 0.008431816473603249},\n",
       " {'label': 'joy', 'score': 0.0010455824667587876}]"
      ]
     },
     "execution_count": 11,
     "metadata": {},
     "output_type": "execute_result"
    }
   ],
   "execution_count": 11
  },
  {
   "metadata": {
    "ExecuteTime": {
     "end_time": "2025-04-17T19:18:48.952860Z",
     "start_time": "2025-04-17T19:18:48.939631Z"
    }
   },
   "cell_type": "code",
   "source": "predictions",
   "id": "403ae892eb4e650a",
   "outputs": [
    {
     "data": {
      "text/plain": [
       "[[{'label': 'surprise', 'score': 0.7296019196510315},\n",
       "  {'label': 'neutral', 'score': 0.14038601517677307},\n",
       "  {'label': 'fear', 'score': 0.06816236674785614},\n",
       "  {'label': 'joy', 'score': 0.047942690551280975},\n",
       "  {'label': 'anger', 'score': 0.009156372398138046},\n",
       "  {'label': 'disgust', 'score': 0.0026284772902727127},\n",
       "  {'label': 'sadness', 'score': 0.0021221640054136515}],\n",
       " [{'label': 'neutral', 'score': 0.4493706226348877},\n",
       "  {'label': 'disgust', 'score': 0.2735915184020996},\n",
       "  {'label': 'joy', 'score': 0.1090831458568573},\n",
       "  {'label': 'sadness', 'score': 0.09362735599279404},\n",
       "  {'label': 'anger', 'score': 0.04047828167676926},\n",
       "  {'label': 'surprise', 'score': 0.02697017416357994},\n",
       "  {'label': 'fear', 'score': 0.006879038643091917}],\n",
       " [{'label': 'neutral', 'score': 0.6462156772613525},\n",
       "  {'label': 'sadness', 'score': 0.24273349344730377},\n",
       "  {'label': 'disgust', 'score': 0.04342273995280266},\n",
       "  {'label': 'surprise', 'score': 0.028300588950514793},\n",
       "  {'label': 'joy', 'score': 0.01421147957444191},\n",
       "  {'label': 'fear', 'score': 0.014084111899137497},\n",
       "  {'label': 'anger', 'score': 0.011031901463866234}],\n",
       " [{'label': 'fear', 'score': 0.9281684160232544},\n",
       "  {'label': 'anger', 'score': 0.032190799713134766},\n",
       "  {'label': 'neutral', 'score': 0.0128086619079113},\n",
       "  {'label': 'sadness', 'score': 0.008756876923143864},\n",
       "  {'label': 'surprise', 'score': 0.008597898297011852},\n",
       "  {'label': 'disgust', 'score': 0.008431816473603249},\n",
       "  {'label': 'joy', 'score': 0.0010455824667587876}],\n",
       " [{'label': 'sadness', 'score': 0.9671575427055359},\n",
       "  {'label': 'neutral', 'score': 0.01510414108633995},\n",
       "  {'label': 'disgust', 'score': 0.006480589509010315},\n",
       "  {'label': 'fear', 'score': 0.005393987521529198},\n",
       "  {'label': 'surprise', 'score': 0.002286941045895219},\n",
       "  {'label': 'anger', 'score': 0.0018428886542096734},\n",
       "  {'label': 'joy', 'score': 0.001733877114020288}],\n",
       " [{'label': 'joy', 'score': 0.9327982664108276},\n",
       "  {'label': 'disgust', 'score': 0.03771700710058212},\n",
       "  {'label': 'neutral', 'score': 0.015891799703240395},\n",
       "  {'label': 'sadness', 'score': 0.006444491911679506},\n",
       "  {'label': 'anger', 'score': 0.005024956539273262},\n",
       "  {'label': 'surprise', 'score': 0.0015812045894563198},\n",
       "  {'label': 'fear', 'score': 0.000542305177077651}],\n",
       " [{'label': 'joy', 'score': 0.652870774269104},\n",
       "  {'label': 'neutral', 'score': 0.2542746365070343},\n",
       "  {'label': 'surprise', 'score': 0.06808297336101532},\n",
       "  {'label': 'sadness', 'score': 0.009908990003168583},\n",
       "  {'label': 'disgust', 'score': 0.006512215826660395},\n",
       "  {'label': 'anger', 'score': 0.004821308888494968},\n",
       "  {'label': 'fear', 'score': 0.003529014065861702}],\n",
       " [{'label': 'neutral', 'score': 0.5494771003723145},\n",
       "  {'label': 'sadness', 'score': 0.11169011145830154},\n",
       "  {'label': 'disgust', 'score': 0.10400665551424026},\n",
       "  {'label': 'surprise', 'score': 0.07876542955636978},\n",
       "  {'label': 'anger', 'score': 0.06413359194993973},\n",
       "  {'label': 'fear', 'score': 0.0513627752661705},\n",
       "  {'label': 'joy', 'score': 0.04056438058614731}]]"
      ]
     },
     "execution_count": 12,
     "metadata": {},
     "output_type": "execute_result"
    }
   ],
   "execution_count": 12
  },
  {
   "metadata": {
    "ExecuteTime": {
     "end_time": "2025-04-17T19:19:48.663978Z",
     "start_time": "2025-04-17T19:19:48.656958Z"
    }
   },
   "cell_type": "code",
   "source": "sorted(predictions[0], key=lambda x: x['label'])",
   "id": "912f12c583073dad",
   "outputs": [
    {
     "data": {
      "text/plain": [
       "[{'label': 'anger', 'score': 0.009156372398138046},\n",
       " {'label': 'disgust', 'score': 0.0026284772902727127},\n",
       " {'label': 'fear', 'score': 0.06816236674785614},\n",
       " {'label': 'joy', 'score': 0.047942690551280975},\n",
       " {'label': 'neutral', 'score': 0.14038601517677307},\n",
       " {'label': 'sadness', 'score': 0.0021221640054136515},\n",
       " {'label': 'surprise', 'score': 0.7296019196510315}]"
      ]
     },
     "execution_count": 13,
     "metadata": {},
     "output_type": "execute_result"
    }
   ],
   "execution_count": 13
  },
  {
   "metadata": {
    "ExecuteTime": {
     "end_time": "2025-04-17T19:24:02.033257Z",
     "start_time": "2025-04-17T19:24:02.004625Z"
    }
   },
   "cell_type": "code",
   "source": [
    "import numpy as np\n",
    "\n",
    "emotion_labels = ['anger', 'disgust', 'fear', 'joy', 'sadness', 'surprise', 'neutral']\n",
    "isbn = []\n",
    "emotion_scores = {label: [] for label in emotion_labels}\n",
    "\n",
    "def calculate_max_emotion_scores(predictions):\n",
    "    per_emotion_scores = {label: [] for label in emotion_labels}\n",
    "    for prediction in predictions:\n",
    "        sorted_prediction = sorted(prediction, key=lambda x: x['label'])\n",
    "        for index, label in enumerate(emotion_labels):\n",
    "            per_emotion_scores[label].append(sorted_prediction[index]['score'])\n",
    "    return {label: np.max(score) for label, score in per_emotion_scores.items()}"
   ],
   "id": "86ad7ba28066ccde",
   "outputs": [],
   "execution_count": 14
  },
  {
   "metadata": {
    "ExecuteTime": {
     "end_time": "2025-04-17T19:31:03.652085Z",
     "start_time": "2025-04-17T19:31:00.967570Z"
    }
   },
   "cell_type": "code",
   "source": [
    "for i in range(10):\n",
    "    isbn.append(books[\"isbn13\"][i])\n",
    "    sentences = books[\"description\"][i].split(\".\")\n",
    "    predictions = classifier(sentences)\n",
    "    max_scores = calculate_max_emotion_scores(predictions)\n",
    "    for label in emotion_labels:\n",
    "        emotion_scores[label].append(max_scores[label])"
   ],
   "id": "52f3186b62ecd4c7",
   "outputs": [],
   "execution_count": 17
  },
  {
   "metadata": {
    "ExecuteTime": {
     "end_time": "2025-04-17T19:31:19.244623Z",
     "start_time": "2025-04-17T19:31:19.230556Z"
    }
   },
   "cell_type": "code",
   "source": "emotion_scores",
   "id": "a5fe24e078ea2d25",
   "outputs": [
    {
     "data": {
      "text/plain": [
       "{'anger': [0.06413359194993973,\n",
       "  0.6126196384429932,\n",
       "  0.06413359194993973,\n",
       "  0.35148459672927856,\n",
       "  0.0814124047756195,\n",
       "  0.2322239726781845,\n",
       "  0.5381842255592346,\n",
       "  0.06413359194993973,\n",
       "  0.3006698787212372,\n",
       "  0.06413359194993973],\n",
       " 'disgust': [0.2735915184020996,\n",
       "  0.3482845425605774,\n",
       "  0.10400665551424026,\n",
       "  0.15072236955165863,\n",
       "  0.18449538946151733,\n",
       "  0.727175772190094,\n",
       "  0.15585485100746155,\n",
       "  0.10400665551424026,\n",
       "  0.2794814109802246,\n",
       "  0.17792613804340363],\n",
       " 'fear': [0.9281684160232544,\n",
       "  0.9425276517868042,\n",
       "  0.9723207950592041,\n",
       "  0.36070573329925537,\n",
       "  0.09504325687885284,\n",
       "  0.0513627752661705,\n",
       "  0.7474275827407837,\n",
       "  0.40449729561805725,\n",
       "  0.9155240654945374,\n",
       "  0.0513627752661705],\n",
       " 'joy': [0.9327982664108276,\n",
       "  0.7044220566749573,\n",
       "  0.7672376036643982,\n",
       "  0.2518811821937561,\n",
       "  0.04056438058614731,\n",
       "  0.043375901877880096,\n",
       "  0.872565746307373,\n",
       "  0.04056438058614731,\n",
       "  0.04056438058614731,\n",
       "  0.04056438058614731],\n",
       " 'sadness': [0.6462156772613525,\n",
       "  0.8879395127296448,\n",
       "  0.5494771003723145,\n",
       "  0.7326847910881042,\n",
       "  0.8843894600868225,\n",
       "  0.6213915348052979,\n",
       "  0.71219402551651,\n",
       "  0.5494771003723145,\n",
       "  0.8402893543243408,\n",
       "  0.8603723645210266],\n",
       " 'surprise': [0.9671575427055359,\n",
       "  0.11169011145830154,\n",
       "  0.11169011145830154,\n",
       "  0.11169011145830154,\n",
       "  0.4758804440498352,\n",
       "  0.11169011145830154,\n",
       "  0.4080007076263428,\n",
       "  0.8202824592590332,\n",
       "  0.3544621169567108,\n",
       "  0.11169011145830154],\n",
       " 'neutral': [0.7296019196510315,\n",
       "  0.2525459825992584,\n",
       "  0.07876542955636978,\n",
       "  0.07876542955636978,\n",
       "  0.07876542955636978,\n",
       "  0.27190378308296204,\n",
       "  0.07876542955636978,\n",
       "  0.23448686301708221,\n",
       "  0.13561388850212097,\n",
       "  0.07876542955636978]}"
      ]
     },
     "execution_count": 18,
     "metadata": {},
     "output_type": "execute_result"
    }
   ],
   "execution_count": 18
  },
  {
   "metadata": {
    "ExecuteTime": {
     "end_time": "2025-04-17T19:45:12.647836Z",
     "start_time": "2025-04-17T19:33:20.601734Z"
    }
   },
   "cell_type": "code",
   "source": [
    "from tqdm import tqdm\n",
    "\n",
    "emotion_labels = ['anger', 'disgust', 'fear', 'joy', 'sadness', 'surprise', 'neutral']\n",
    "isbn = []\n",
    "emotion_scores = {label: [] for label in emotion_labels}\n",
    "\n",
    "for i in tqdm(range(len(books))):\n",
    "    isbn.append(books[\"isbn13\"][i])\n",
    "    sentences = books[\"description\"][i].split(\".\")\n",
    "    predictions = classifier(sentences)\n",
    "    max_scores = calculate_max_emotion_scores(predictions)\n",
    "    for label in emotion_labels:\n",
    "        emotion_scores[label].append(max_scores[label])"
   ],
   "id": "2040ba322131ff4c",
   "outputs": [
    {
     "name": "stderr",
     "output_type": "stream",
     "text": [
      "100%|██████████| 5197/5197 [11:51<00:00,  7.30it/s]\n"
     ]
    }
   ],
   "execution_count": 19
  },
  {
   "metadata": {
    "ExecuteTime": {
     "end_time": "2025-04-17T19:47:03.201772Z",
     "start_time": "2025-04-17T19:47:03.093897Z"
    }
   },
   "cell_type": "code",
   "source": [
    "emotions_df = pd.DataFrame(emotion_scores)\n",
    "emotions_df[\"isbn13\"] = isbn"
   ],
   "id": "64f3102b6b462f30",
   "outputs": [],
   "execution_count": 20
  },
  {
   "metadata": {
    "ExecuteTime": {
     "end_time": "2025-04-17T19:47:05.792323Z",
     "start_time": "2025-04-17T19:47:05.697396Z"
    }
   },
   "cell_type": "code",
   "source": "emotions_df.head()",
   "id": "7d7ef64f61113e0f",
   "outputs": [
    {
     "data": {
      "text/plain": [
       "      anger   disgust      fear       joy   sadness  surprise   neutral  \\\n",
       "0  0.064134  0.273592  0.928168  0.932798  0.646216  0.967158  0.729602   \n",
       "1  0.612620  0.348285  0.942528  0.704422  0.887940  0.111690  0.252546   \n",
       "2  0.064134  0.104007  0.972321  0.767238  0.549477  0.111690  0.078765   \n",
       "3  0.351485  0.150722  0.360706  0.251881  0.732685  0.111690  0.078765   \n",
       "4  0.081412  0.184495  0.095043  0.040564  0.884389  0.475880  0.078765   \n",
       "\n",
       "          isbn13  \n",
       "0  9780002005883  \n",
       "1  9780002261982  \n",
       "2  9780006178736  \n",
       "3  9780006280897  \n",
       "4  9780006280934  "
      ],
      "text/html": [
       "<div>\n",
       "<style scoped>\n",
       "    .dataframe tbody tr th:only-of-type {\n",
       "        vertical-align: middle;\n",
       "    }\n",
       "\n",
       "    .dataframe tbody tr th {\n",
       "        vertical-align: top;\n",
       "    }\n",
       "\n",
       "    .dataframe thead th {\n",
       "        text-align: right;\n",
       "    }\n",
       "</style>\n",
       "<table border=\"1\" class=\"dataframe\">\n",
       "  <thead>\n",
       "    <tr style=\"text-align: right;\">\n",
       "      <th></th>\n",
       "      <th>anger</th>\n",
       "      <th>disgust</th>\n",
       "      <th>fear</th>\n",
       "      <th>joy</th>\n",
       "      <th>sadness</th>\n",
       "      <th>surprise</th>\n",
       "      <th>neutral</th>\n",
       "      <th>isbn13</th>\n",
       "    </tr>\n",
       "  </thead>\n",
       "  <tbody>\n",
       "    <tr>\n",
       "      <th>0</th>\n",
       "      <td>0.064134</td>\n",
       "      <td>0.273592</td>\n",
       "      <td>0.928168</td>\n",
       "      <td>0.932798</td>\n",
       "      <td>0.646216</td>\n",
       "      <td>0.967158</td>\n",
       "      <td>0.729602</td>\n",
       "      <td>9780002005883</td>\n",
       "    </tr>\n",
       "    <tr>\n",
       "      <th>1</th>\n",
       "      <td>0.612620</td>\n",
       "      <td>0.348285</td>\n",
       "      <td>0.942528</td>\n",
       "      <td>0.704422</td>\n",
       "      <td>0.887940</td>\n",
       "      <td>0.111690</td>\n",
       "      <td>0.252546</td>\n",
       "      <td>9780002261982</td>\n",
       "    </tr>\n",
       "    <tr>\n",
       "      <th>2</th>\n",
       "      <td>0.064134</td>\n",
       "      <td>0.104007</td>\n",
       "      <td>0.972321</td>\n",
       "      <td>0.767238</td>\n",
       "      <td>0.549477</td>\n",
       "      <td>0.111690</td>\n",
       "      <td>0.078765</td>\n",
       "      <td>9780006178736</td>\n",
       "    </tr>\n",
       "    <tr>\n",
       "      <th>3</th>\n",
       "      <td>0.351485</td>\n",
       "      <td>0.150722</td>\n",
       "      <td>0.360706</td>\n",
       "      <td>0.251881</td>\n",
       "      <td>0.732685</td>\n",
       "      <td>0.111690</td>\n",
       "      <td>0.078765</td>\n",
       "      <td>9780006280897</td>\n",
       "    </tr>\n",
       "    <tr>\n",
       "      <th>4</th>\n",
       "      <td>0.081412</td>\n",
       "      <td>0.184495</td>\n",
       "      <td>0.095043</td>\n",
       "      <td>0.040564</td>\n",
       "      <td>0.884389</td>\n",
       "      <td>0.475880</td>\n",
       "      <td>0.078765</td>\n",
       "      <td>9780006280934</td>\n",
       "    </tr>\n",
       "  </tbody>\n",
       "</table>\n",
       "</div>"
      ]
     },
     "execution_count": 21,
     "metadata": {},
     "output_type": "execute_result"
    }
   ],
   "execution_count": 21
  },
  {
   "metadata": {
    "ExecuteTime": {
     "end_time": "2025-04-17T19:47:08.961455Z",
     "start_time": "2025-04-17T19:47:08.835243Z"
    }
   },
   "cell_type": "code",
   "source": "books = pd.merge(books, emotions_df, on=\"isbn13\")",
   "id": "36daf1165f5982aa",
   "outputs": [],
   "execution_count": 22
  },
  {
   "metadata": {
    "ExecuteTime": {
     "end_time": "2025-04-17T19:47:10.240974Z",
     "start_time": "2025-04-17T19:47:10.190725Z"
    }
   },
   "cell_type": "code",
   "source": "books",
   "id": "9b0acb5ef1d70f92",
   "outputs": [
    {
     "data": {
      "text/plain": [
       "             isbn13      isbn10  \\\n",
       "0     9780002005883  0002005883   \n",
       "1     9780002261982  0002261987   \n",
       "2     9780006178736  0006178731   \n",
       "3     9780006280897  0006280897   \n",
       "4     9780006280934  0006280935   \n",
       "...             ...         ...   \n",
       "5192  9788172235222  8172235224   \n",
       "5193  9788173031014  8173031010   \n",
       "5194  9788179921623  817992162X   \n",
       "5195  9788185300535  8185300534   \n",
       "5196  9789027712059  9027712050   \n",
       "\n",
       "                                                  title  \\\n",
       "0                                                Gilead   \n",
       "1                                          Spider's Web   \n",
       "2                                        Rage of angels   \n",
       "3                                        The Four Loves   \n",
       "4                                   The Problem of Pain   \n",
       "...                                                 ...   \n",
       "5192                                  Mistaken Identity   \n",
       "5193                                Journey to the East   \n",
       "5194  The Monk Who Sold His Ferrari: A Fable About F...   \n",
       "5195                                          I Am that   \n",
       "5196                           The Berlin Phenomenology   \n",
       "\n",
       "                                           authors  \\\n",
       "0                               Marilynne Robinson   \n",
       "1                  Charles Osborne;Agatha Christie   \n",
       "2                                   Sidney Sheldon   \n",
       "3                              Clive Staples Lewis   \n",
       "4                              Clive Staples Lewis   \n",
       "...                                            ...   \n",
       "5192                              Nayantara Sahgal   \n",
       "5193                                 Hermann Hesse   \n",
       "5194                                  Robin Sharma   \n",
       "5195  Sri Nisargadatta Maharaj;Sudhakar S. Dikshit   \n",
       "5196                 Georg Wilhelm Friedrich Hegel   \n",
       "\n",
       "                         categories  \\\n",
       "0                           Fiction   \n",
       "1     Detective and mystery stories   \n",
       "2                           Fiction   \n",
       "3                    Christian life   \n",
       "4                    Christian life   \n",
       "...                             ...   \n",
       "5192        Indic fiction (English)   \n",
       "5193              Adventure stories   \n",
       "5194               Health & Fitness   \n",
       "5195                     Philosophy   \n",
       "5196                        History   \n",
       "\n",
       "                                              thumbnail  \\\n",
       "0     http://books.google.com/books/content?id=KQZCP...   \n",
       "1     http://books.google.com/books/content?id=gA5GP...   \n",
       "2     http://books.google.com/books/content?id=FKo2T...   \n",
       "3     http://books.google.com/books/content?id=XhQ5X...   \n",
       "4     http://books.google.com/books/content?id=Kk-uV...   \n",
       "...                                                 ...   \n",
       "5192  http://books.google.com/books/content?id=q-tKP...   \n",
       "5193  http://books.google.com/books/content?id=rq6JP...   \n",
       "5194  http://books.google.com/books/content?id=c_7mf...   \n",
       "5195  http://books.google.com/books/content?id=Fv_JP...   \n",
       "5196  http://books.google.com/books/content?id=Vy7Sk...   \n",
       "\n",
       "                                            description  published_year  \\\n",
       "0     A NOVEL THAT READERS and critics have been eag...          2004.0   \n",
       "1     A new 'Christie for Christmas' -- a full-lengt...          2000.0   \n",
       "2     A memorable, mesmerizing heroine Jennifer -- b...          1993.0   \n",
       "3     Lewis' work on the nature of love divides love...          2002.0   \n",
       "4     \"In The Problem of Pain, C.S. Lewis, one of th...          2002.0   \n",
       "...                                                 ...             ...   \n",
       "5192  On A Train Journey Home To North India After L...          2003.0   \n",
       "5193  This book tells the tale of a man who goes on ...          2002.0   \n",
       "5194  Wisdom to Create a Life of Passion, Purpose, a...          2003.0   \n",
       "5195  This collection of the timeless teachings of o...          1999.0   \n",
       "5196  Since the three volume edition ofHegel's Philo...          1981.0   \n",
       "\n",
       "      average_rating  num_pages  ...  \\\n",
       "0               3.85      247.0  ...   \n",
       "1               3.83      241.0  ...   \n",
       "2               3.93      512.0  ...   \n",
       "3               4.15      170.0  ...   \n",
       "4               4.09      176.0  ...   \n",
       "...              ...        ...  ...   \n",
       "5192            2.93      324.0  ...   \n",
       "5193            3.70      175.0  ...   \n",
       "5194            3.82      198.0  ...   \n",
       "5195            4.51      531.0  ...   \n",
       "5196            0.00      210.0  ...   \n",
       "\n",
       "                                     title_and_subtitle  \\\n",
       "0                                                Gilead   \n",
       "1                                Spider's Web : A Novel   \n",
       "2                                        Rage of angels   \n",
       "3                                        The Four Loves   \n",
       "4                                   The Problem of Pain   \n",
       "...                                                 ...   \n",
       "5192                                  Mistaken Identity   \n",
       "5193                                Journey to the East   \n",
       "5194  The Monk Who Sold His Ferrari: A Fable About F...   \n",
       "5195    I Am that : Talks with Sri Nisargadatta Maharaj   \n",
       "5196                           The Berlin Phenomenology   \n",
       "\n",
       "                                     tagged_description simple_categories  \\\n",
       "0     9780002005883  A NOVEL THAT READERS and critic...           Fiction   \n",
       "1     9780002261982  A new 'Christie for Christmas' ...           Fiction   \n",
       "2     9780006178736  A memorable, mesmerizing heroin...           Fiction   \n",
       "3     9780006280897  Lewis' work on the nature of lo...        Nonfiction   \n",
       "4     9780006280934  \"In The Problem of Pain, C.S. L...        Nonfiction   \n",
       "...                                                 ...               ...   \n",
       "5192  9788172235222  On A Train Journey Home To Nort...           Fiction   \n",
       "5193  9788173031014  This book tells the tale of a m...        Nonfiction   \n",
       "5194  9788179921623  Wisdom to Create a Life of Pass...           Fiction   \n",
       "5195  9788185300535  This collection of the timeless...        Nonfiction   \n",
       "5196  9789027712059  Since the three volume edition ...        Nonfiction   \n",
       "\n",
       "         anger   disgust      fear       joy   sadness  surprise   neutral  \n",
       "0     0.064134  0.273592  0.928168  0.932798  0.646216  0.967158  0.729602  \n",
       "1     0.612620  0.348285  0.942528  0.704422  0.887940  0.111690  0.252546  \n",
       "2     0.064134  0.104007  0.972321  0.767238  0.549477  0.111690  0.078765  \n",
       "3     0.351485  0.150722  0.360706  0.251881  0.732685  0.111690  0.078765  \n",
       "4     0.081412  0.184495  0.095043  0.040564  0.884389  0.475880  0.078765  \n",
       "...        ...       ...       ...       ...       ...       ...       ...  \n",
       "5192  0.148208  0.030643  0.919165  0.255172  0.853721  0.980877  0.030656  \n",
       "5193  0.064134  0.114383  0.051363  0.400263  0.883198  0.111690  0.227765  \n",
       "5194  0.009997  0.009929  0.339218  0.947779  0.375755  0.066685  0.057625  \n",
       "5195  0.064134  0.104007  0.459268  0.759456  0.951104  0.368110  0.078765  \n",
       "5196  0.064134  0.104007  0.051363  0.958549  0.915193  0.111690  0.078765  \n",
       "\n",
       "[5197 rows x 21 columns]"
      ],
      "text/html": [
       "<div>\n",
       "<style scoped>\n",
       "    .dataframe tbody tr th:only-of-type {\n",
       "        vertical-align: middle;\n",
       "    }\n",
       "\n",
       "    .dataframe tbody tr th {\n",
       "        vertical-align: top;\n",
       "    }\n",
       "\n",
       "    .dataframe thead th {\n",
       "        text-align: right;\n",
       "    }\n",
       "</style>\n",
       "<table border=\"1\" class=\"dataframe\">\n",
       "  <thead>\n",
       "    <tr style=\"text-align: right;\">\n",
       "      <th></th>\n",
       "      <th>isbn13</th>\n",
       "      <th>isbn10</th>\n",
       "      <th>title</th>\n",
       "      <th>authors</th>\n",
       "      <th>categories</th>\n",
       "      <th>thumbnail</th>\n",
       "      <th>description</th>\n",
       "      <th>published_year</th>\n",
       "      <th>average_rating</th>\n",
       "      <th>num_pages</th>\n",
       "      <th>...</th>\n",
       "      <th>title_and_subtitle</th>\n",
       "      <th>tagged_description</th>\n",
       "      <th>simple_categories</th>\n",
       "      <th>anger</th>\n",
       "      <th>disgust</th>\n",
       "      <th>fear</th>\n",
       "      <th>joy</th>\n",
       "      <th>sadness</th>\n",
       "      <th>surprise</th>\n",
       "      <th>neutral</th>\n",
       "    </tr>\n",
       "  </thead>\n",
       "  <tbody>\n",
       "    <tr>\n",
       "      <th>0</th>\n",
       "      <td>9780002005883</td>\n",
       "      <td>0002005883</td>\n",
       "      <td>Gilead</td>\n",
       "      <td>Marilynne Robinson</td>\n",
       "      <td>Fiction</td>\n",
       "      <td>http://books.google.com/books/content?id=KQZCP...</td>\n",
       "      <td>A NOVEL THAT READERS and critics have been eag...</td>\n",
       "      <td>2004.0</td>\n",
       "      <td>3.85</td>\n",
       "      <td>247.0</td>\n",
       "      <td>...</td>\n",
       "      <td>Gilead</td>\n",
       "      <td>9780002005883  A NOVEL THAT READERS and critic...</td>\n",
       "      <td>Fiction</td>\n",
       "      <td>0.064134</td>\n",
       "      <td>0.273592</td>\n",
       "      <td>0.928168</td>\n",
       "      <td>0.932798</td>\n",
       "      <td>0.646216</td>\n",
       "      <td>0.967158</td>\n",
       "      <td>0.729602</td>\n",
       "    </tr>\n",
       "    <tr>\n",
       "      <th>1</th>\n",
       "      <td>9780002261982</td>\n",
       "      <td>0002261987</td>\n",
       "      <td>Spider's Web</td>\n",
       "      <td>Charles Osborne;Agatha Christie</td>\n",
       "      <td>Detective and mystery stories</td>\n",
       "      <td>http://books.google.com/books/content?id=gA5GP...</td>\n",
       "      <td>A new 'Christie for Christmas' -- a full-lengt...</td>\n",
       "      <td>2000.0</td>\n",
       "      <td>3.83</td>\n",
       "      <td>241.0</td>\n",
       "      <td>...</td>\n",
       "      <td>Spider's Web : A Novel</td>\n",
       "      <td>9780002261982  A new 'Christie for Christmas' ...</td>\n",
       "      <td>Fiction</td>\n",
       "      <td>0.612620</td>\n",
       "      <td>0.348285</td>\n",
       "      <td>0.942528</td>\n",
       "      <td>0.704422</td>\n",
       "      <td>0.887940</td>\n",
       "      <td>0.111690</td>\n",
       "      <td>0.252546</td>\n",
       "    </tr>\n",
       "    <tr>\n",
       "      <th>2</th>\n",
       "      <td>9780006178736</td>\n",
       "      <td>0006178731</td>\n",
       "      <td>Rage of angels</td>\n",
       "      <td>Sidney Sheldon</td>\n",
       "      <td>Fiction</td>\n",
       "      <td>http://books.google.com/books/content?id=FKo2T...</td>\n",
       "      <td>A memorable, mesmerizing heroine Jennifer -- b...</td>\n",
       "      <td>1993.0</td>\n",
       "      <td>3.93</td>\n",
       "      <td>512.0</td>\n",
       "      <td>...</td>\n",
       "      <td>Rage of angels</td>\n",
       "      <td>9780006178736  A memorable, mesmerizing heroin...</td>\n",
       "      <td>Fiction</td>\n",
       "      <td>0.064134</td>\n",
       "      <td>0.104007</td>\n",
       "      <td>0.972321</td>\n",
       "      <td>0.767238</td>\n",
       "      <td>0.549477</td>\n",
       "      <td>0.111690</td>\n",
       "      <td>0.078765</td>\n",
       "    </tr>\n",
       "    <tr>\n",
       "      <th>3</th>\n",
       "      <td>9780006280897</td>\n",
       "      <td>0006280897</td>\n",
       "      <td>The Four Loves</td>\n",
       "      <td>Clive Staples Lewis</td>\n",
       "      <td>Christian life</td>\n",
       "      <td>http://books.google.com/books/content?id=XhQ5X...</td>\n",
       "      <td>Lewis' work on the nature of love divides love...</td>\n",
       "      <td>2002.0</td>\n",
       "      <td>4.15</td>\n",
       "      <td>170.0</td>\n",
       "      <td>...</td>\n",
       "      <td>The Four Loves</td>\n",
       "      <td>9780006280897  Lewis' work on the nature of lo...</td>\n",
       "      <td>Nonfiction</td>\n",
       "      <td>0.351485</td>\n",
       "      <td>0.150722</td>\n",
       "      <td>0.360706</td>\n",
       "      <td>0.251881</td>\n",
       "      <td>0.732685</td>\n",
       "      <td>0.111690</td>\n",
       "      <td>0.078765</td>\n",
       "    </tr>\n",
       "    <tr>\n",
       "      <th>4</th>\n",
       "      <td>9780006280934</td>\n",
       "      <td>0006280935</td>\n",
       "      <td>The Problem of Pain</td>\n",
       "      <td>Clive Staples Lewis</td>\n",
       "      <td>Christian life</td>\n",
       "      <td>http://books.google.com/books/content?id=Kk-uV...</td>\n",
       "      <td>\"In The Problem of Pain, C.S. Lewis, one of th...</td>\n",
       "      <td>2002.0</td>\n",
       "      <td>4.09</td>\n",
       "      <td>176.0</td>\n",
       "      <td>...</td>\n",
       "      <td>The Problem of Pain</td>\n",
       "      <td>9780006280934  \"In The Problem of Pain, C.S. L...</td>\n",
       "      <td>Nonfiction</td>\n",
       "      <td>0.081412</td>\n",
       "      <td>0.184495</td>\n",
       "      <td>0.095043</td>\n",
       "      <td>0.040564</td>\n",
       "      <td>0.884389</td>\n",
       "      <td>0.475880</td>\n",
       "      <td>0.078765</td>\n",
       "    </tr>\n",
       "    <tr>\n",
       "      <th>...</th>\n",
       "      <td>...</td>\n",
       "      <td>...</td>\n",
       "      <td>...</td>\n",
       "      <td>...</td>\n",
       "      <td>...</td>\n",
       "      <td>...</td>\n",
       "      <td>...</td>\n",
       "      <td>...</td>\n",
       "      <td>...</td>\n",
       "      <td>...</td>\n",
       "      <td>...</td>\n",
       "      <td>...</td>\n",
       "      <td>...</td>\n",
       "      <td>...</td>\n",
       "      <td>...</td>\n",
       "      <td>...</td>\n",
       "      <td>...</td>\n",
       "      <td>...</td>\n",
       "      <td>...</td>\n",
       "      <td>...</td>\n",
       "      <td>...</td>\n",
       "    </tr>\n",
       "    <tr>\n",
       "      <th>5192</th>\n",
       "      <td>9788172235222</td>\n",
       "      <td>8172235224</td>\n",
       "      <td>Mistaken Identity</td>\n",
       "      <td>Nayantara Sahgal</td>\n",
       "      <td>Indic fiction (English)</td>\n",
       "      <td>http://books.google.com/books/content?id=q-tKP...</td>\n",
       "      <td>On A Train Journey Home To North India After L...</td>\n",
       "      <td>2003.0</td>\n",
       "      <td>2.93</td>\n",
       "      <td>324.0</td>\n",
       "      <td>...</td>\n",
       "      <td>Mistaken Identity</td>\n",
       "      <td>9788172235222  On A Train Journey Home To Nort...</td>\n",
       "      <td>Fiction</td>\n",
       "      <td>0.148208</td>\n",
       "      <td>0.030643</td>\n",
       "      <td>0.919165</td>\n",
       "      <td>0.255172</td>\n",
       "      <td>0.853721</td>\n",
       "      <td>0.980877</td>\n",
       "      <td>0.030656</td>\n",
       "    </tr>\n",
       "    <tr>\n",
       "      <th>5193</th>\n",
       "      <td>9788173031014</td>\n",
       "      <td>8173031010</td>\n",
       "      <td>Journey to the East</td>\n",
       "      <td>Hermann Hesse</td>\n",
       "      <td>Adventure stories</td>\n",
       "      <td>http://books.google.com/books/content?id=rq6JP...</td>\n",
       "      <td>This book tells the tale of a man who goes on ...</td>\n",
       "      <td>2002.0</td>\n",
       "      <td>3.70</td>\n",
       "      <td>175.0</td>\n",
       "      <td>...</td>\n",
       "      <td>Journey to the East</td>\n",
       "      <td>9788173031014  This book tells the tale of a m...</td>\n",
       "      <td>Nonfiction</td>\n",
       "      <td>0.064134</td>\n",
       "      <td>0.114383</td>\n",
       "      <td>0.051363</td>\n",
       "      <td>0.400263</td>\n",
       "      <td>0.883198</td>\n",
       "      <td>0.111690</td>\n",
       "      <td>0.227765</td>\n",
       "    </tr>\n",
       "    <tr>\n",
       "      <th>5194</th>\n",
       "      <td>9788179921623</td>\n",
       "      <td>817992162X</td>\n",
       "      <td>The Monk Who Sold His Ferrari: A Fable About F...</td>\n",
       "      <td>Robin Sharma</td>\n",
       "      <td>Health &amp; Fitness</td>\n",
       "      <td>http://books.google.com/books/content?id=c_7mf...</td>\n",
       "      <td>Wisdom to Create a Life of Passion, Purpose, a...</td>\n",
       "      <td>2003.0</td>\n",
       "      <td>3.82</td>\n",
       "      <td>198.0</td>\n",
       "      <td>...</td>\n",
       "      <td>The Monk Who Sold His Ferrari: A Fable About F...</td>\n",
       "      <td>9788179921623  Wisdom to Create a Life of Pass...</td>\n",
       "      <td>Fiction</td>\n",
       "      <td>0.009997</td>\n",
       "      <td>0.009929</td>\n",
       "      <td>0.339218</td>\n",
       "      <td>0.947779</td>\n",
       "      <td>0.375755</td>\n",
       "      <td>0.066685</td>\n",
       "      <td>0.057625</td>\n",
       "    </tr>\n",
       "    <tr>\n",
       "      <th>5195</th>\n",
       "      <td>9788185300535</td>\n",
       "      <td>8185300534</td>\n",
       "      <td>I Am that</td>\n",
       "      <td>Sri Nisargadatta Maharaj;Sudhakar S. Dikshit</td>\n",
       "      <td>Philosophy</td>\n",
       "      <td>http://books.google.com/books/content?id=Fv_JP...</td>\n",
       "      <td>This collection of the timeless teachings of o...</td>\n",
       "      <td>1999.0</td>\n",
       "      <td>4.51</td>\n",
       "      <td>531.0</td>\n",
       "      <td>...</td>\n",
       "      <td>I Am that : Talks with Sri Nisargadatta Maharaj</td>\n",
       "      <td>9788185300535  This collection of the timeless...</td>\n",
       "      <td>Nonfiction</td>\n",
       "      <td>0.064134</td>\n",
       "      <td>0.104007</td>\n",
       "      <td>0.459268</td>\n",
       "      <td>0.759456</td>\n",
       "      <td>0.951104</td>\n",
       "      <td>0.368110</td>\n",
       "      <td>0.078765</td>\n",
       "    </tr>\n",
       "    <tr>\n",
       "      <th>5196</th>\n",
       "      <td>9789027712059</td>\n",
       "      <td>9027712050</td>\n",
       "      <td>The Berlin Phenomenology</td>\n",
       "      <td>Georg Wilhelm Friedrich Hegel</td>\n",
       "      <td>History</td>\n",
       "      <td>http://books.google.com/books/content?id=Vy7Sk...</td>\n",
       "      <td>Since the three volume edition ofHegel's Philo...</td>\n",
       "      <td>1981.0</td>\n",
       "      <td>0.00</td>\n",
       "      <td>210.0</td>\n",
       "      <td>...</td>\n",
       "      <td>The Berlin Phenomenology</td>\n",
       "      <td>9789027712059  Since the three volume edition ...</td>\n",
       "      <td>Nonfiction</td>\n",
       "      <td>0.064134</td>\n",
       "      <td>0.104007</td>\n",
       "      <td>0.051363</td>\n",
       "      <td>0.958549</td>\n",
       "      <td>0.915193</td>\n",
       "      <td>0.111690</td>\n",
       "      <td>0.078765</td>\n",
       "    </tr>\n",
       "  </tbody>\n",
       "</table>\n",
       "<p>5197 rows × 21 columns</p>\n",
       "</div>"
      ]
     },
     "execution_count": 23,
     "metadata": {},
     "output_type": "execute_result"
    }
   ],
   "execution_count": 23
  },
  {
   "metadata": {
    "ExecuteTime": {
     "end_time": "2025-04-17T19:47:51.492950Z",
     "start_time": "2025-04-17T19:47:50.949499Z"
    }
   },
   "cell_type": "code",
   "source": "books.to_csv(\"books_with_emotions.csv\", index=False)",
   "id": "37897b232ddefc10",
   "outputs": [],
   "execution_count": 25
  },
  {
   "metadata": {},
   "cell_type": "code",
   "outputs": [],
   "execution_count": null,
   "source": "",
   "id": "309100bbd4f08919"
  }
 ],
 "metadata": {
  "kernelspec": {
   "display_name": "Python 3",
   "language": "python",
   "name": "python3"
  },
  "language_info": {
   "codemirror_mode": {
    "name": "ipython",
    "version": 2
   },
   "file_extension": ".py",
   "mimetype": "text/x-python",
   "name": "python",
   "nbconvert_exporter": "python",
   "pygments_lexer": "ipython2",
   "version": "2.7.6"
  }
 },
 "nbformat": 4,
 "nbformat_minor": 5
}
